{
    "nbformat_minor": 1, 
    "cells": [
        {
            "source": "# Business problem", 
            "cell_type": "markdown", 
            "metadata": {
                "collapsed": true
            }
        }, 
        {
            "source": "How dissimilar is new York  and Toronto?", 
            "cell_type": "markdown", 
            "metadata": {}
        }, 
        {
            "source": "This project has the main aim to find the dissmilarities from both cities, the idea is compare the neighborhoods in both cities  regarding venues,like restaurants ,cafe, actual trends .", 
            "cell_type": "markdown", 
            "metadata": {}
        }, 
        {
            "execution_count": null, 
            "cell_type": "code", 
            "metadata": {}, 
            "outputs": [], 
            "source": ""
        }
    ], 
    "metadata": {
        "kernelspec": {
            "display_name": "Python 3.5", 
            "name": "python3", 
            "language": "python"
        }, 
        "language_info": {
            "mimetype": "text/x-python", 
            "nbconvert_exporter": "python", 
            "version": "3.5.5", 
            "name": "python", 
            "file_extension": ".py", 
            "pygments_lexer": "ipython3", 
            "codemirror_mode": {
                "version": 3, 
                "name": "ipython"
            }
        }
    }, 
    "nbformat": 4
}