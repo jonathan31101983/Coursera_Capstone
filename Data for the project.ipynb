{
    "nbformat_minor": 1, 
    "cells": [
        {
            "source": "# Data", 
            "cell_type": "markdown", 
            "metadata": {
                "collapsed": true
            }
        }, 
        {
            "source": "The data that will be used in this project , obtain the API foursquare in order to see restaurants,coffes and which neighbourhood has more\ntraffic, and information about the neighbourhood our target neighbourhood are Murray Hills and Hudson Yards boths are in New York city ,\nit can be found in the following web adress https://geo.nyu.edu/catalog/nyu_2451_34572 which is free.This will be dissimilarities it will be \nuse the machine lea", 
            "cell_type": "markdown", 
            "metadata": {}
        }, 
        {
            "execution_count": null, 
            "cell_type": "code", 
            "metadata": {}, 
            "outputs": [], 
            "source": ""
        }
    ], 
    "metadata": {
        "kernelspec": {
            "display_name": "Python 3.5", 
            "name": "python3", 
            "language": "python"
        }, 
        "language_info": {
            "mimetype": "text/x-python", 
            "nbconvert_exporter": "python", 
            "version": "3.5.5", 
            "name": "python", 
            "file_extension": ".py", 
            "pygments_lexer": "ipython3", 
            "codemirror_mode": {
                "version": 3, 
                "name": "ipython"
            }
        }
    }, 
    "nbformat": 4
}